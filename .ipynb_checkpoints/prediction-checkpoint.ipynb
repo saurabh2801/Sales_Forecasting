{
 "cells": [
  {
   "cell_type": "markdown",
   "id": "c4d6bf64-6c62-4338-a777-76c68b0ae22e",
   "metadata": {},
   "source": [
    "# Predictions on initial stage"
   ]
  },
  {
   "cell_type": "markdown",
   "id": "04d6aa7c-dfb2-41b7-a98c-02bfca006f29",
   "metadata": {},
   "source": [
    "### Importing necessary libraries for serialization and data manipulation\n"
   ]
  },
  {
   "cell_type": "code",
   "execution_count": 1,
   "id": "b3eb14a2-faf5-4228-ad18-83d94d270113",
   "metadata": {},
   "outputs": [],
   "source": [
    "import json\n",
    "import numpy as np\n",
    "import pickle\n"
   ]
  },
  {
   "cell_type": "markdown",
   "id": "ae141b38-4548-4931-878f-fe7c38622c10",
   "metadata": {},
   "source": [
    "### Load the Random Forest Regression Model from the Pickle file\n"
   ]
  },
  {
   "cell_type": "code",
   "execution_count": 10,
   "id": "97678506-30d3-4f5a-ad48-af674a39cd70",
   "metadata": {},
   "outputs": [],
   "source": [
    "with open(\"RF_model.pkl\",\"rb\") as file:\n",
    "    model = pickle.load(file)"
   ]
  },
  {
   "cell_type": "markdown",
   "id": "11394453-d0c2-473b-8639-83339d5bd90e",
   "metadata": {},
   "source": [
    "### Load the Project Data Dictionary from the JSON file\n"
   ]
  },
  {
   "cell_type": "code",
   "execution_count": 11,
   "id": "0123fdfb-3b17-435c-9243-cbb4e313781b",
   "metadata": {},
   "outputs": [],
   "source": [
    "with open(\"project_data.json\",\"r\") as file:\n",
    "    project_data = json.load(file)"
   ]
  },
  {
   "cell_type": "code",
   "execution_count": 12,
   "id": "62f96300-1e4b-4118-b4b8-ede5045d6953",
   "metadata": {},
   "outputs": [
    {
     "data": {
      "text/plain": [
       "['Item_Weight',\n",
       " 'Item_Visibility',\n",
       " 'Item_MRP',\n",
       " 'Outlet_Type_Supermarket Type1',\n",
       " 'Outlet_Type_Supermarket Type2',\n",
       " 'Outlet_Type_Supermarket Type3',\n",
       " 'Outlet_Location_Type_Tier 2',\n",
       " 'Outlet_Location_Type_Tier 3',\n",
       " 'Item_Fat_Content_Low Fat',\n",
       " 'Item_Fat_Content_Regular',\n",
       " 'Item_Fat_Content_low fat',\n",
       " 'Item_Fat_Content_reg',\n",
       " 'Item_Type_Breads',\n",
       " 'Item_Type_Breakfast',\n",
       " 'Item_Type_Canned',\n",
       " 'Item_Type_Dairy',\n",
       " 'Item_Type_Frozen Foods',\n",
       " 'Item_Type_Fruits and Vegetables',\n",
       " 'Item_Type_Hard Drinks',\n",
       " 'Item_Type_Health and Hygiene',\n",
       " 'Item_Type_Household',\n",
       " 'Item_Type_Meat',\n",
       " 'Item_Type_Others',\n",
       " 'Item_Type_Seafood',\n",
       " 'Item_Type_Snack Foods',\n",
       " 'Item_Type_Soft Drinks',\n",
       " 'Item_Type_Starchy Foods']"
      ]
     },
     "execution_count": 12,
     "metadata": {},
     "output_type": "execute_result"
    }
   ],
   "source": [
    "project_data[\"columns\"]"
   ]
  },
  {
   "cell_type": "markdown",
   "id": "1db695ff-75f2-45fb-b404-4ccd594cb9bc",
   "metadata": {},
   "source": [
    "### Sample Input Data for Prediction\n"
   ]
  },
  {
   "cell_type": "code",
   "execution_count": 82,
   "id": "1efd6e82-2948-4030-b499-04cbb43362ef",
   "metadata": {},
   "outputs": [],
   "source": [
    "Item_Weight = 46\n",
    "Item_Visibility\t= 0.78\n",
    "Item_MRP = 788\n",
    "Outlet_Type\t= \"Supermarket Type2\"\n",
    "Outlet_Location_Type = \"Tier 2\"\n",
    "Item_Fat_Content = \"reg\"\n",
    "Item_Type = \"Seafood\""
   ]
  },
  {
   "cell_type": "markdown",
   "id": "7327b93e-1fa2-459f-92ec-7f4d7d033c68",
   "metadata": {},
   "source": [
    "### Create a Test Array for Prediction using the Sample Input Data\n"
   ]
  },
  {
   "cell_type": "code",
   "execution_count": 83,
   "id": "b56d73b0-3960-419d-9c18-212b3f7f1d89",
   "metadata": {},
   "outputs": [
    {
     "data": {
      "text/plain": [
       "array([4.60e+01, 7.80e-01, 7.88e+02, 0.00e+00, 1.00e+00, 0.00e+00,\n",
       "       1.00e+00, 0.00e+00, 0.00e+00, 0.00e+00, 0.00e+00, 1.00e+00,\n",
       "       0.00e+00, 0.00e+00, 0.00e+00, 0.00e+00, 0.00e+00, 0.00e+00,\n",
       "       0.00e+00, 0.00e+00, 0.00e+00, 0.00e+00, 0.00e+00, 1.00e+00,\n",
       "       0.00e+00, 0.00e+00, 0.00e+00])"
      ]
     },
     "execution_count": 83,
     "metadata": {},
     "output_type": "execute_result"
    }
   ],
   "source": [
    "columns_names = project_data[\"columns\"]\n",
    "array1 = np.array(columns_names)\n",
    "test_array = np.zeros(len(columns_names))\n",
    "test_array[0] = Item_Weight\n",
    "test_array[1] = Item_Visibility\n",
    "test_array[2] = Item_MRP\n",
    "\n",
    "Outlet_Type1 = \"Outlet_Type_\" + Outlet_Type\n",
    "index_Outlet_Type1 = np.where(array1 == Outlet_Type1)\n",
    "test_array[index_Outlet_Type1] = 1\n",
    "\n",
    "Outlet_Location_Type1 = \"Outlet_Location_Type_\" + Outlet_Location_Type\n",
    "index_Outlet_Location_Type1 = np.where(array1 == Outlet_Location_Type1)\n",
    "test_array[index_Outlet_Location_Type1] = 1\n",
    "\n",
    "Item_Fat_Content1 = \"Item_Fat_Content_\" + Item_Fat_Content\n",
    "index_Item_Fat_Content1 = np.where(array1 == Item_Fat_Content1)\n",
    "test_array[index_Item_Fat_Content1]=1\n",
    "\n",
    "Item_Type1 = \"Item_Type_\" + Item_Type\n",
    "index_Item_Type = np.where(array1 == Item_Type1)\n",
    "test_array[index_Item_Type] = 1\n",
    "\n",
    "test_array\n"
   ]
  },
  {
   "cell_type": "markdown",
   "id": "62274ef1-92b7-474b-be2b-5b24099da01f",
   "metadata": {},
   "source": [
    "### Predict the Sales Price using the Random Forest Regression Model\n"
   ]
  },
  {
   "cell_type": "code",
   "execution_count": 78,
   "id": "c119a9c5-1a17-4b1e-bda6-b1b43aa6c953",
   "metadata": {},
   "outputs": [
    {
     "name": "stdout",
     "output_type": "stream",
     "text": [
      "Predicted sales price is [4024.42665362]\n"
     ]
    }
   ],
   "source": [
    "sales = model.predict([test_array])\n",
    "print(\"Predicted sales price is\",sales)"
   ]
  },
  {
   "cell_type": "code",
   "execution_count": null,
   "id": "793ab428-9e73-45f9-b93b-01e804c272fd",
   "metadata": {},
   "outputs": [],
   "source": []
  },
  {
   "cell_type": "markdown",
   "id": "73a85545-b96d-46fc-bdb6-24ade9d624ca",
   "metadata": {},
   "source": [
    "### predicting Sales by using Sample Data"
   ]
  },
  {
   "cell_type": "code",
   "execution_count": null,
   "id": "f07c2a0f-59e0-46f4-bf7f-d3c53b974e44",
   "metadata": {},
   "outputs": [],
   "source": []
  },
  {
   "cell_type": "code",
   "execution_count": 79,
   "id": "93e9e033-d6fc-4893-9789-4b6ad6f222fe",
   "metadata": {},
   "outputs": [],
   "source": [
    "Item_Weight = 89\n",
    "Item_Visibility\t= 1.78\n",
    "Item_MRP = 8\n",
    "Outlet_Type\t= \"Supermarket Type2\"\n",
    "Outlet_Location_Type = \"Tier 3\"\n",
    "Item_Fat_Content = \"reg\"\n",
    "Item_Type = \"Dairy\""
   ]
  },
  {
   "cell_type": "code",
   "execution_count": 80,
   "id": "60e09f60-4644-4d95-845e-1754d0812c36",
   "metadata": {},
   "outputs": [
    {
     "data": {
      "text/plain": [
       "array([89.  ,  1.78,  8.  ,  0.  ,  1.  ,  0.  ,  0.  ,  1.  ,  0.  ,\n",
       "        0.  ,  0.  ,  1.  ,  0.  ,  0.  ,  0.  ,  1.  ,  0.  ,  0.  ,\n",
       "        0.  ,  0.  ,  0.  ,  0.  ,  0.  ,  0.  ,  0.  ,  0.  ,  0.  ])"
      ]
     },
     "execution_count": 80,
     "metadata": {},
     "output_type": "execute_result"
    }
   ],
   "source": [
    "columns_names = project_data[\"columns\"]\n",
    "array1 = np.array(columns_names)\n",
    "test_array = np.zeros(len(columns_names))\n",
    "test_array[0] = Item_Weight\n",
    "test_array[1] = Item_Visibility\n",
    "test_array[2] = Item_MRP\n",
    "\n",
    "Outlet_Type1 = \"Outlet_Type_\" + Outlet_Type\n",
    "index_Outlet_Type1 = np.where(array1 == Outlet_Type1)\n",
    "test_array[index_Outlet_Type1] = 1\n",
    "\n",
    "Outlet_Location_Type1 = \"Outlet_Location_Type_\" + Outlet_Location_Type\n",
    "index_Outlet_Location_Type1 = np.where(array1 == Outlet_Location_Type1)\n",
    "test_array[index_Outlet_Location_Type1] = 1\n",
    "\n",
    "Item_Fat_Content1 = \"Item_Fat_Content_\" + Item_Fat_Content\n",
    "index_Item_Fat_Content1 = np.where(array1 == Item_Fat_Content1)\n",
    "test_array[index_Item_Fat_Content1]=1\n",
    "\n",
    "Item_Type1 = \"Item_Type_\" + Item_Type\n",
    "index_Item_Type = np.where(array1 == Item_Type1)\n",
    "test_array[index_Item_Type] = 1\n",
    "\n",
    "test_array\n"
   ]
  },
  {
   "cell_type": "code",
   "execution_count": 81,
   "id": "2b80d3b6-f477-4e87-8b4f-c576bcbeea51",
   "metadata": {},
   "outputs": [
    {
     "name": "stdout",
     "output_type": "stream",
     "text": [
      "Predicted sales price is [4022.95063264]\n"
     ]
    }
   ],
   "source": [
    "sales = model.predict([test_array])\n",
    "print(\"Predicted sales price is\",sales)"
   ]
  },
  {
   "cell_type": "code",
   "execution_count": 84,
   "id": "0a94bdf1-7aaa-40de-9c8b-e8a379953b9e",
   "metadata": {},
   "outputs": [],
   "source": [
    "Item_Weight = 8\n",
    "Item_Visibility\t= .0000078\n",
    "Item_MRP = 0.9999\n",
    "Outlet_Type\t= \"Supermarket Type2\"\n",
    "Outlet_Location_Type = \"Tier 3\"\n",
    "Item_Fat_Content = \"reg\"\n",
    "Item_Type = \"Dairy\""
   ]
  },
  {
   "cell_type": "code",
   "execution_count": 85,
   "id": "d839867d-bc50-471c-98eb-ea6da6a8f637",
   "metadata": {},
   "outputs": [
    {
     "data": {
      "text/plain": [
       "array([8.000e+00, 7.800e-06, 9.999e-01, 0.000e+00, 1.000e+00, 0.000e+00,\n",
       "       0.000e+00, 1.000e+00, 0.000e+00, 0.000e+00, 0.000e+00, 1.000e+00,\n",
       "       0.000e+00, 0.000e+00, 0.000e+00, 1.000e+00, 0.000e+00, 0.000e+00,\n",
       "       0.000e+00, 0.000e+00, 0.000e+00, 0.000e+00, 0.000e+00, 0.000e+00,\n",
       "       0.000e+00, 0.000e+00, 0.000e+00])"
      ]
     },
     "execution_count": 85,
     "metadata": {},
     "output_type": "execute_result"
    }
   ],
   "source": [
    "columns_names = project_data[\"columns\"]\n",
    "array1 = np.array(columns_names)\n",
    "test_array = np.zeros(len(columns_names))\n",
    "test_array[0] = Item_Weight\n",
    "test_array[1] = Item_Visibility\n",
    "test_array[2] = Item_MRP\n",
    "\n",
    "Outlet_Type1 = \"Outlet_Type_\" + Outlet_Type\n",
    "index_Outlet_Type1 = np.where(array1 == Outlet_Type1)\n",
    "test_array[index_Outlet_Type1] = 1\n",
    "\n",
    "Outlet_Location_Type1 = \"Outlet_Location_Type_\" + Outlet_Location_Type\n",
    "index_Outlet_Location_Type1 = np.where(array1 == Outlet_Location_Type1)\n",
    "test_array[index_Outlet_Location_Type1] = 1\n",
    "\n",
    "Item_Fat_Content1 = \"Item_Fat_Content_\" + Item_Fat_Content\n",
    "index_Item_Fat_Content1 = np.where(array1 == Item_Fat_Content1)\n",
    "test_array[index_Item_Fat_Content1]=1\n",
    "\n",
    "Item_Type1 = \"Item_Type_\" + Item_Type\n",
    "index_Item_Type = np.where(array1 == Item_Type1)\n",
    "test_array[index_Item_Type] = 1\n",
    "\n",
    "test_array\n"
   ]
  },
  {
   "cell_type": "code",
   "execution_count": 86,
   "id": "4b392834-7e1a-4893-8c79-a13431edc64b",
   "metadata": {},
   "outputs": [
    {
     "name": "stdout",
     "output_type": "stream",
     "text": [
      "Predicted sales price is [3346.59788737]\n"
     ]
    }
   ],
   "source": [
    "sales = model.predict([test_array])\n",
    "print(\"Predicted sales price is\",sales)"
   ]
  },
  {
   "cell_type": "code",
   "execution_count": null,
   "id": "9678e08b-4921-4215-98f6-416dabc66979",
   "metadata": {},
   "outputs": [],
   "source": []
  }
 ],
 "metadata": {
  "kernelspec": {
   "display_name": "Python 3 (ipykernel)",
   "language": "python",
   "name": "python3"
  },
  "language_info": {
   "codemirror_mode": {
    "name": "ipython",
    "version": 3
   },
   "file_extension": ".py",
   "mimetype": "text/x-python",
   "name": "python",
   "nbconvert_exporter": "python",
   "pygments_lexer": "ipython3",
   "version": "3.11.5"
  }
 },
 "nbformat": 4,
 "nbformat_minor": 5
}
